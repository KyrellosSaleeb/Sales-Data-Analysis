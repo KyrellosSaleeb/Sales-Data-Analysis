{
 "cells": [
  {
   "cell_type": "code",
   "execution_count": 2,
   "id": "6b1afbfe",
   "metadata": {},
   "outputs": [],
   "source": [
    "import numpy as np\n",
    "import pandas as pd\n",
    "import matplotlib.pyplot as plt\n",
    "import seaborn as sns\n",
    "import csv"
   ]
  },
  {
   "cell_type": "markdown",
   "id": "5f548ce1",
   "metadata": {},
   "source": [
    "# Step 1: Load the Data"
   ]
  },
  {
   "cell_type": "code",
   "execution_count": 3,
   "id": "73cbb083",
   "metadata": {},
   "outputs": [],
   "source": [
    "File_Path = \"Sales_Data_Project.csv\""
   ]
  },
  {
   "cell_type": "code",
   "execution_count": 4,
   "id": "72769c48",
   "metadata": {},
   "outputs": [],
   "source": [
    "Data  = pd.read_csv(File_Path)"
   ]
  },
  {
   "cell_type": "code",
   "execution_count": 6,
   "id": "24dfc4b5",
   "metadata": {},
   "outputs": [
    {
     "name": "stdout",
     "output_type": "stream",
     "text": [
      "<class 'pandas.core.frame.DataFrame'>\n",
      "RangeIndex: 365 entries, 0 to 364\n",
      "Data columns (total 7 columns):\n",
      " #   Column         Non-Null Count  Dtype  \n",
      "---  ------         --------------  -----  \n",
      " 0   Date           365 non-null    object \n",
      " 1   Product        365 non-null    object \n",
      " 2   Region         365 non-null    object \n",
      " 3   Units Sold     365 non-null    int64  \n",
      " 4   Unit Price     365 non-null    float64\n",
      " 5   Revenue        365 non-null    float64\n",
      " 6   Profit Margin  365 non-null    float64\n",
      "dtypes: float64(3), int64(1), object(3)\n",
      "memory usage: 20.1+ KB\n",
      "None\n",
      "         Date    Product Region  Units Sold  Unit Price   Revenue  \\\n",
      "0  2023-01-01  Product A  North         238       41.10  24219.98   \n",
      "1  2023-01-02  Product B  South         147       47.03  22963.22   \n",
      "2  2023-01-03  Product C   East         180       61.37  16858.78   \n",
      "3  2023-01-04  Product D   West          46       61.70   9449.33   \n",
      "4  2023-01-05  Product A  North         271       55.71  20652.06   \n",
      "\n",
      "   Profit Margin  \n",
      "0           0.29  \n",
      "1           0.26  \n",
      "2           0.29  \n",
      "3           0.22  \n",
      "4           0.21  \n"
     ]
    }
   ],
   "source": [
    "#1.1: investigate the data\n",
    "print(Data.info())\n",
    "print(Data.head())"
   ]
  },
  {
   "cell_type": "markdown",
   "id": "b9074bae",
   "metadata": {},
   "source": [
    "# Step 2: Data Cleaning and Preparation"
   ]
  },
  {
   "cell_type": "code",
   "execution_count": 7,
   "id": "237cd107",
   "metadata": {},
   "outputs": [
    {
     "name": "stdout",
     "output_type": "stream",
     "text": [
      "Date             0\n",
      "Product          0\n",
      "Region           0\n",
      "Units Sold       0\n",
      "Unit Price       0\n",
      "Revenue          0\n",
      "Profit Margin    0\n",
      "dtype: int64\n"
     ]
    }
   ],
   "source": [
    "#2.1: Check for Missing Values\n",
    "print(Data.isnull().sum())"
   ]
  },
  {
   "cell_type": "code",
   "execution_count": 12,
   "id": "9dd1c618",
   "metadata": {},
   "outputs": [
    {
     "name": "stdout",
     "output_type": "stream",
     "text": [
      "0      False\n",
      "1      False\n",
      "2      False\n",
      "3      False\n",
      "4      False\n",
      "       ...  \n",
      "360    False\n",
      "361    False\n",
      "362    False\n",
      "363    False\n",
      "364    False\n",
      "Length: 365, dtype: bool\n"
     ]
    }
   ],
   "source": [
    "#2.2: Check for Duplicates:\n",
    "print(Data.duplicated())"
   ]
  },
  {
   "cell_type": "code",
   "execution_count": 13,
   "id": "944c9223",
   "metadata": {},
   "outputs": [
    {
     "name": "stdout",
     "output_type": "stream",
     "text": [
      "Date             datetime64[ns]\n",
      "Product                  object\n",
      "Region                   object\n",
      "Units Sold                int64\n",
      "Unit Price              float64\n",
      "Revenue                 float64\n",
      "Profit Margin           float64\n",
      "dtype: object\n",
      "<class 'pandas.core.frame.DataFrame'>\n",
      "RangeIndex: 365 entries, 0 to 364\n",
      "Data columns (total 7 columns):\n",
      " #   Column         Non-Null Count  Dtype         \n",
      "---  ------         --------------  -----         \n",
      " 0   Date           365 non-null    datetime64[ns]\n",
      " 1   Product        365 non-null    object        \n",
      " 2   Region         365 non-null    object        \n",
      " 3   Units Sold     365 non-null    int64         \n",
      " 4   Unit Price     365 non-null    float64       \n",
      " 5   Revenue        365 non-null    float64       \n",
      " 6   Profit Margin  365 non-null    float64       \n",
      "dtypes: datetime64[ns](1), float64(3), int64(1), object(2)\n",
      "memory usage: 20.1+ KB\n",
      "None\n"
     ]
    }
   ],
   "source": [
    "print(Data.dtypes)\n",
    "print(Data.info())"
   ]
  },
  {
   "cell_type": "code",
   "execution_count": 15,
   "id": "1988e12c",
   "metadata": {},
   "outputs": [
    {
     "name": "stdout",
     "output_type": "stream",
     "text": [
      "<class 'pandas.core.frame.DataFrame'>\n",
      "RangeIndex: 365 entries, 0 to 364\n",
      "Data columns (total 8 columns):\n",
      " #   Column         Non-Null Count  Dtype         \n",
      "---  ------         --------------  -----         \n",
      " 0   Date           365 non-null    datetime64[ns]\n",
      " 1   Product        365 non-null    object        \n",
      " 2   Region         365 non-null    object        \n",
      " 3   Units Sold     365 non-null    int64         \n",
      " 4   Unit Price     365 non-null    float64       \n",
      " 5   Revenue        365 non-null    float64       \n",
      " 6   Profit Margin  365 non-null    float64       \n",
      " 7   Total Profit   365 non-null    float64       \n",
      "dtypes: datetime64[ns](1), float64(4), int64(1), object(2)\n",
      "memory usage: 22.9+ KB\n",
      "None\n",
      "        Date    Product Region  Units Sold  Unit Price   Revenue  \\\n",
      "0 2023-01-01  Product A  North         238       41.10  24219.98   \n",
      "1 2023-01-02  Product B  South         147       47.03  22963.22   \n",
      "2 2023-01-03  Product C   East         180       61.37  16858.78   \n",
      "3 2023-01-04  Product D   West          46       61.70   9449.33   \n",
      "4 2023-01-05  Product A  North         271       55.71  20652.06   \n",
      "\n",
      "   Profit Margin  Total Profit  \n",
      "0           0.29     7023.7942  \n",
      "1           0.26     5970.4372  \n",
      "2           0.29     4889.0462  \n",
      "3           0.22     2078.8526  \n",
      "4           0.21     4336.9326  \n"
     ]
    }
   ],
   "source": [
    "#2.4: Create a New Column for Total Profit= Profit Margin * Revenue\n",
    "Data['Total Profit'] = Data['Revenue'] * Data['Profit Margin'] \n",
    "print(Data.info())\n",
    "print(Data.head())"
   ]
  },
  {
   "cell_type": "markdown",
   "id": "e5cd10ec",
   "metadata": {},
   "source": [
    "# Step 3: Exploratory Data Analysis (EDA)"
   ]
  },
  {
   "cell_type": "code",
   "execution_count": 16,
   "id": "909134a9",
   "metadata": {},
   "outputs": [
    {
     "name": "stdout",
     "output_type": "stream",
     "text": [
      "       Units Sold  Unit Price       Revenue  Profit Margin  Total Profit\n",
      "count  365.000000  365.000000    365.000000     365.000000    365.000000\n",
      "mean   155.200000   49.865425  19330.862795       0.298548   5770.248498\n",
      "std     90.291354   10.038405   4917.920425       0.050501   1779.573538\n",
      "min      2.000000   23.800000   6411.170000       0.150000   1894.720800\n",
      "25%     87.000000   42.930000  16118.120000       0.260000   4534.384000\n",
      "50%    146.000000   49.640000  19492.860000       0.300000   5600.134900\n",
      "75%    215.000000   57.460000  22784.830000       0.330000   6786.335400\n",
      "max    420.000000   77.410000  30824.960000       0.430000  10788.736000\n"
     ]
    }
   ],
   "source": [
    "#3.1: Descriptive Statistics\n",
    "print(Data.describe())"
   ]
  },
  {
   "cell_type": "code",
   "execution_count": 17,
   "id": "2f051960",
   "metadata": {},
   "outputs": [],
   "source": [
    "#IQR Function"
   ]
  },
  {
   "cell_type": "code",
   "execution_count": 18,
   "id": "a2cede1d",
   "metadata": {},
   "outputs": [],
   "source": [
    "def IQR_Calculate(DataFrame, Column):\n",
    "    Q1 = DataFrame[Column].quantile(0.25)\n",
    "    Q3 = DataFrame[Column].quantile(0.75)\n",
    "    IQR = Q3 - Q1\n",
    "    \n",
    "    # Define bounds\n",
    "    lower_bound = Q1 - 1.5 * IQR\n",
    "    upper_bound = Q3 + 1.5 * IQR\n",
    "    \n",
    "    \n",
    "    outliers = DataFrame[(DataFrame[Column] < lower_bound) | (DataFrame[Column] > upper_bound)]\n",
    "    filtered_data = DataFrame[(DataFrame[Column] >= lower_bound) & (DataFrame[Column] <= upper_bound)]\n",
    "\n",
    "    return outliers, filtered_data"
   ]
  },
  {
   "cell_type": "code",
   "execution_count": 19,
   "id": "be9c1e70",
   "metadata": {},
   "outputs": [],
   "source": [
    "#visualization of the data"
   ]
  },
  {
   "cell_type": "code",
   "execution_count": 25,
   "id": "f64ea7a9",
   "metadata": {},
   "outputs": [
    {
     "data": {
      "image/png": "[encoded data removed]",
      "text/plain": [
       "<Figure size 432x288 with 1 Axes>"
      ]
     },
     "metadata": {
      "needs_background": "light"
     },
     "output_type": "display_data"
    }
   ],
   "source": [
    "plt.boxplot(Data['Units Sold'])\n",
    "plt.title(\"Units Sold Boxplots\")\n",
    "plt.xlabel(\"Units Sold\")\n",
    "plt.ylabel(\"Values\")\n",
    "plt.show()"
   ]
  },
  {
   "cell_type": "code",
   "execution_count": 26,
   "id": "43083d57",
   "metadata": {},
   "outputs": [
    {
     "data": {
      "image/png": "[encoded data removed]",
      "text/plain": [
       "<Figure size 432x288 with 1 Axes>"
      ]
     },
     "metadata": {
      "needs_background": "light"
     },
     "output_type": "display_data"
    }
   ],
   "source": [
    "plt.boxplot(Data['Unit Price'])\n",
    "plt.title(\"Unit Price Boxplots\")\n",
    "plt.xlabel(\"Unit Price\")\n",
    "plt.ylabel(\"Values\")\n",
    "plt.show()"
   ]
  },
  {
   "cell_type": "code",
   "execution_count": 27,
   "id": "c27b2f6f",
   "metadata": {},
   "outputs": [
    {
     "data": {
      "image/png": "[encoded data removed]",
      "text/plain": [
       "<Figure size 432x288 with 1 Axes>"
      ]
     },
     "metadata": {
      "needs_background": "light"
     },
     "output_type": "display_data"
    }
   ],
   "source": [
    "plt.boxplot(Data['Revenue'])\n",
    "plt.title(\"Revenue Boxplots\")\n",
    "plt.xlabel(\"Revenue\")\n",
    "plt.ylabel(\"Values\")\n",
    "plt.show()"
   ]
  },
  {
   "cell_type": "code",
   "execution_count": 28,
   "id": "449dd3a8",
   "metadata": {},
   "outputs": [
    {
     "data": {
      "image/png": "[encoded data removed]",
      "text/plain": [
       "<Figure size 432x288 with 1 Axes>"
      ]
     },
     "metadata": {
      "needs_background": "light"
     },
     "output_type": "display_data"
    }
   ],
   "source": [
    "plt.boxplot(Data['Profit Margin'])\n",
    "plt.title(\"Profit Margin Boxplots\")\n",
    "plt.xlabel(\"Profit Margin\")\n",
    "plt.ylabel(\"Values\")\n",
    "plt.show()\n"
   ]
  },
  {
   "cell_type": "markdown",
   "id": "96ec77b1",
   "metadata": {},
   "source": [
    "outlier detected"
   ]
  },
  {
   "cell_type": "code",
   "execution_count": 29,
   "id": "6d440b3e",
   "metadata": {},
   "outputs": [
    {
     "data": {
      "image/png": "[encoded data removed]",
      "text/plain": [
       "<Figure size 432x288 with 1 Axes>"
      ]
     },
     "metadata": {
      "needs_background": "light"
     },
     "output_type": "display_data"
    }
   ],
   "source": [
    "plt.boxplot(Data['Total Profit'])\n",
    "plt.title(\"Total Profit Boxplots\")\n",
    "plt.xlabel(\"Total Profit\")\n",
    "plt.ylabel(\"Values\")\n",
    "plt.show()"
   ]
  },
  {
   "cell_type": "markdown",
   "id": "0871f6b3",
   "metadata": {},
   "source": [
    "outlier detected"
   ]
  },
  {
   "cell_type": "markdown",
   "id": "b2a8d697",
   "metadata": {},
   "source": [
    "# Find out the outliers"
   ]
  },
  {
   "cell_type": "code",
   "execution_count": 30,
   "id": "5d8eca53",
   "metadata": {},
   "outputs": [
    {
     "name": "stdout",
     "output_type": "stream",
     "text": [
      "Units Sold\n",
      "(         Date    Product Region  Units Sold  Unit Price   Revenue  \\\n",
      "35 2023-02-05  Product D   West         420       62.37  19984.13   \n",
      "\n",
      "    Profit Margin  Total Profit  \n",
      "35           0.26     5195.8738  ,           Date    Product Region  Units Sold  Unit Price   Revenue  \\\n",
      "0   2023-01-01  Product A  North         238       41.10  24219.98   \n",
      "1   2023-01-02  Product B  South         147       47.03  22963.22   \n",
      "2   2023-01-03  Product C   East         180       61.37  16858.78   \n",
      "3   2023-01-04  Product D   West          46       61.70   9449.33   \n",
      "4   2023-01-05  Product A  North         271       55.71  20652.06   \n",
      "..         ...        ...    ...         ...         ...       ...   \n",
      "360 2023-12-27  Product A  North          75       46.52  19580.24   \n",
      "361 2023-12-28  Product B  South         169       40.56   8609.43   \n",
      "362 2023-12-29  Product C   East         167       45.07  25579.10   \n",
      "363 2023-12-30  Product D   West         179       36.94  25829.30   \n",
      "364 2023-12-31  Product A  North         112       43.08  20165.86   \n",
      "\n",
      "     Profit Margin  Total Profit  \n",
      "0             0.29     7023.7942  \n",
      "1             0.26     5970.4372  \n",
      "2             0.29     4889.0462  \n",
      "3             0.22     2078.8526  \n",
      "4             0.21     4336.9326  \n",
      "..             ...           ...  \n",
      "360           0.34     6657.2816  \n",
      "361           0.41     3529.8663  \n",
      "362           0.27     6906.3570  \n",
      "363           0.38     9815.1340  \n",
      "364           0.33     6654.7338  \n",
      "\n",
      "[364 rows x 8 columns])\n"
     ]
    }
   ],
   "source": [
    "print('Units Sold')\n",
    "print(IQR_Calculate(Data,'Units Sold'))"
   ]
  },
  {
   "cell_type": "code",
   "execution_count": 31,
   "id": "b81b7b15",
   "metadata": {},
   "outputs": [
    {
     "name": "stdout",
     "output_type": "stream",
     "text": [
      "Units Price\n",
      "(Empty DataFrame\n",
      "Columns: [Date, Product, Region, Units Sold, Unit Price, Revenue, Profit Margin, Total Profit]\n",
      "Index: [],           Date    Product Region  Units Sold  Unit Price   Revenue  \\\n",
      "0   2023-01-01  Product A  North         238       41.10  24219.98   \n",
      "1   2023-01-02  Product B  South         147       47.03  22963.22   \n",
      "2   2023-01-03  Product C   East         180       61.37  16858.78   \n",
      "3   2023-01-04  Product D   West          46       61.70   9449.33   \n",
      "4   2023-01-05  Product A  North         271       55.71  20652.06   \n",
      "..         ...        ...    ...         ...         ...       ...   \n",
      "360 2023-12-27  Product A  North          75       46.52  19580.24   \n",
      "361 2023-12-28  Product B  South         169       40.56   8609.43   \n",
      "362 2023-12-29  Product C   East         167       45.07  25579.10   \n",
      "363 2023-12-30  Product D   West         179       36.94  25829.30   \n",
      "364 2023-12-31  Product A  North         112       43.08  20165.86   \n",
      "\n",
      "     Profit Margin  Total Profit  \n",
      "0             0.29     7023.7942  \n",
      "1             0.26     5970.4372  \n",
      "2             0.29     4889.0462  \n",
      "3             0.22     2078.8526  \n",
      "4             0.21     4336.9326  \n",
      "..             ...           ...  \n",
      "360           0.34     6657.2816  \n",
      "361           0.41     3529.8663  \n",
      "362           0.27     6906.3570  \n",
      "363           0.38     9815.1340  \n",
      "364           0.33     6654.7338  \n",
      "\n",
      "[365 rows x 8 columns])\n"
     ]
    }
   ],
   "source": [
    "print('Units Price')\n",
    "print(IQR_Calculate(Data,'Unit Price'))"
   ]
  },
  {
   "cell_type": "code",
   "execution_count": 32,
   "id": "a5020a77",
   "metadata": {},
   "outputs": [
    {
     "name": "stdout",
     "output_type": "stream",
     "text": [
      "Revenue\n",
      "(Empty DataFrame\n",
      "Columns: [Date, Product, Region, Units Sold, Unit Price, Revenue, Profit Margin, Total Profit]\n",
      "Index: [],           Date    Product Region  Units Sold  Unit Price   Revenue  \\\n",
      "0   2023-01-01  Product A  North         238       41.10  24219.98   \n",
      "1   2023-01-02  Product B  South         147       47.03  22963.22   \n",
      "2   2023-01-03  Product C   East         180       61.37  16858.78   \n",
      "3   2023-01-04  Product D   West          46       61.70   9449.33   \n",
      "4   2023-01-05  Product A  North         271       55.71  20652.06   \n",
      "..         ...        ...    ...         ...         ...       ...   \n",
      "360 2023-12-27  Product A  North          75       46.52  19580.24   \n",
      "361 2023-12-28  Product B  South         169       40.56   8609.43   \n",
      "362 2023-12-29  Product C   East         167       45.07  25579.10   \n",
      "363 2023-12-30  Product D   West         179       36.94  25829.30   \n",
      "364 2023-12-31  Product A  North         112       43.08  20165.86   \n",
      "\n",
      "     Profit Margin  Total Profit  \n",
      "0             0.29     7023.7942  \n",
      "1             0.26     5970.4372  \n",
      "2             0.29     4889.0462  \n",
      "3             0.22     2078.8526  \n",
      "4             0.21     4336.9326  \n",
      "..             ...           ...  \n",
      "360           0.34     6657.2816  \n",
      "361           0.41     3529.8663  \n",
      "362           0.27     6906.3570  \n",
      "363           0.38     9815.1340  \n",
      "364           0.33     6654.7338  \n",
      "\n",
      "[365 rows x 8 columns])\n"
     ]
    }
   ],
   "source": [
    "print('Revenue')\n",
    "print(IQR_Calculate(Data,'Revenue'))"
   ]
  },
  {
   "cell_type": "code",
   "execution_count": 33,
   "id": "90cc119f",
   "metadata": {},
   "outputs": [
    {
     "name": "stdout",
     "output_type": "stream",
     "text": [
      "Profit Margin\n",
      "(          Date    Product Region  Units Sold  Unit Price   Revenue  \\\n",
      "299 2023-10-27  Product D   West         197       40.67  21730.38   \n",
      "\n",
      "     Profit Margin  Total Profit  \n",
      "299           0.15      3259.557  ,           Date    Product Region  Units Sold  Unit Price   Revenue  \\\n",
      "0   2023-01-01  Product A  North         238       41.10  24219.98   \n",
      "1   2023-01-02  Product B  South         147       47.03  22963.22   \n",
      "2   2023-01-03  Product C   East         180       61.37  16858.78   \n",
      "3   2023-01-04  Product D   West          46       61.70   9449.33   \n",
      "4   2023-01-05  Product A  North         271       55.71  20652.06   \n",
      "..         ...        ...    ...         ...         ...       ...   \n",
      "360 2023-12-27  Product A  North          75       46.52  19580.24   \n",
      "361 2023-12-28  Product B  South         169       40.56   8609.43   \n",
      "362 2023-12-29  Product C   East         167       45.07  25579.10   \n",
      "363 2023-12-30  Product D   West         179       36.94  25829.30   \n",
      "364 2023-12-31  Product A  North         112       43.08  20165.86   \n",
      "\n",
      "     Profit Margin  Total Profit  \n",
      "0             0.29     7023.7942  \n",
      "1             0.26     5970.4372  \n",
      "2             0.29     4889.0462  \n",
      "3             0.22     2078.8526  \n",
      "4             0.21     4336.9326  \n",
      "..             ...           ...  \n",
      "360           0.34     6657.2816  \n",
      "361           0.41     3529.8663  \n",
      "362           0.27     6906.3570  \n",
      "363           0.38     9815.1340  \n",
      "364           0.33     6654.7338  \n",
      "\n",
      "[364 rows x 8 columns])\n"
     ]
    }
   ],
   "source": [
    "print('Profit Margin')\n",
    "print(IQR_Calculate(Data,'Profit Margin'))"
   ]
  },
  {
   "cell_type": "code",
   "execution_count": 35,
   "id": "cdd4afe1",
   "metadata": {},
   "outputs": [
    {
     "name": "stdout",
     "output_type": "stream",
     "text": [
      "Total Profit\n",
      "(          Date    Product Region  Units Sold  Unit Price   Revenue  \\\n",
      "57  2023-02-27  Product B  South         101       29.85  30824.96   \n",
      "62  2023-03-04  Product C   East         173       48.34  28389.91   \n",
      "294 2023-10-22  Product C   East          96       41.66  24800.68   \n",
      "297 2023-10-25  Product B  South         145       53.02  28585.11   \n",
      "\n",
      "     Profit Margin  Total Profit  \n",
      "57            0.35    10788.7360  \n",
      "62            0.36    10220.3676  \n",
      "294           0.43    10664.2924  \n",
      "297           0.36    10290.6396  ,           Date    Product Region  Units Sold  Unit Price   Revenue  \\\n",
      "0   2023-01-01  Product A  North         238       41.10  24219.98   \n",
      "1   2023-01-02  Product B  South         147       47.03  22963.22   \n",
      "2   2023-01-03  Product C   East         180       61.37  16858.78   \n",
      "3   2023-01-04  Product D   West          46       61.70   9449.33   \n",
      "4   2023-01-05  Product A  North         271       55.71  20652.06   \n",
      "..         ...        ...    ...         ...         ...       ...   \n",
      "360 2023-12-27  Product A  North          75       46.52  19580.24   \n",
      "361 2023-12-28  Product B  South         169       40.56   8609.43   \n",
      "362 2023-12-29  Product C   East         167       45.07  25579.10   \n",
      "363 2023-12-30  Product D   West         179       36.94  25829.30   \n",
      "364 2023-12-31  Product A  North         112       43.08  20165.86   \n",
      "\n",
      "     Profit Margin  Total Profit  \n",
      "0             0.29     7023.7942  \n",
      "1             0.26     5970.4372  \n",
      "2             0.29     4889.0462  \n",
      "3             0.22     2078.8526  \n",
      "4             0.21     4336.9326  \n",
      "..             ...           ...  \n",
      "360           0.34     6657.2816  \n",
      "361           0.41     3529.8663  \n",
      "362           0.27     6906.3570  \n",
      "363           0.38     9815.1340  \n",
      "364           0.33     6654.7338  \n",
      "\n",
      "[361 rows x 8 columns])\n"
     ]
    }
   ],
   "source": [
    "print('Total Profit')\n",
    "print(IQR_Calculate(Data,'Total Profit'))"
   ]
  },
  {
   "cell_type": "markdown",
   "id": "af2933da",
   "metadata": {},
   "source": [
    "we filtered the data and get the outliers"
   ]
  },
  {
   "cell_type": "markdown",
   "id": "39cea984",
   "metadata": {},
   "source": [
    "Trend Analysis:"
   ]
  },
  {
   "cell_type": "code",
   "execution_count": 36,
   "id": "3841d4e4",
   "metadata": {},
   "outputs": [
    {
     "data": {
      "image/png": "[encoded data removed]",
      "text/plain": [
       "<Figure size 432x288 with 1 Axes>"
      ]
     },
     "metadata": {
      "needs_background": "light"
     },
     "output_type": "display_data"
    }
   ],
   "source": [
    "plt.fill_between(Data['Date'], Data['Revenue'], color='skyblue', alpha=0.5)\n",
    "plt.title(\"Date vs Revenue\")\n",
    "plt.show()"
   ]
  },
  {
   "cell_type": "markdown",
   "id": "e0c5e73a",
   "metadata": {},
   "source": [
    "2023-3 is the highest rate in revenue"
   ]
  },
  {
   "cell_type": "code",
   "execution_count": 37,
   "id": "5b83d280",
   "metadata": {},
   "outputs": [
    {
     "data": {
      "image/png": "[encoded data removed]",
      "text/plain": [
       "<Figure size 432x288 with 1 Axes>"
      ]
     },
     "metadata": {
      "needs_background": "light"
     },
     "output_type": "display_data"
    }
   ],
   "source": [
    "plt.bar(Data['Region'],Data['Units Sold'])\n",
    "plt.title(\"Region vs Units Sold\")\n",
    "plt.show()"
   ]
  },
  {
   "cell_type": "markdown",
   "id": "17023019",
   "metadata": {},
   "source": [
    "West is the highest region in units Sold"
   ]
  },
  {
   "cell_type": "code",
   "execution_count": 38,
   "id": "5207df95",
   "metadata": {},
   "outputs": [
    {
     "data": {
      "image/png": "[encoded data removed]",
      "text/plain": [
       "<Figure size 432x288 with 1 Axes>"
      ]
     },
     "metadata": {
      "needs_background": "light"
     },
     "output_type": "display_data"
    }
   ],
   "source": [
    "#3.3: Top Products:\n",
    "plt.bar(Data['Product'],Data['Units Sold'])\n",
    "plt.title(\"Product vs Units Sold\")\n",
    "plt.show()"
   ]
  },
  {
   "cell_type": "markdown",
   "id": "2c5d5081",
   "metadata": {},
   "source": [
    "Product D is the highest Product Sold"
   ]
  },
  {
   "cell_type": "code",
   "execution_count": 39,
   "id": "cd02d7d7",
   "metadata": {},
   "outputs": [
    {
     "data": {
      "image/png": "[encoded data removed]",
      "text/plain": [
       "<Figure size 432x288 with 1 Axes>"
      ]
     },
     "metadata": {
      "needs_background": "light"
     },
     "output_type": "display_data"
    }
   ],
   "source": [
    "plt.bar(Data['Product'],Data['Revenue'])\n",
    "plt.title(\"Products vs Revenue\")\n",
    "plt.show()"
   ]
  },
  {
   "cell_type": "markdown",
   "id": "ce21d69e",
   "metadata": {},
   "source": [
    "Product B is the highest Revenue Rate in Products"
   ]
  },
  {
   "cell_type": "code",
   "execution_count": 40,
   "id": "82d04ee0",
   "metadata": {},
   "outputs": [
    {
     "data": {
      "image/png": "[encoded data removed]",
      "text/plain": [
       "<Figure size 432x288 with 1 Axes>"
      ]
     },
     "metadata": {
      "needs_background": "light"
     },
     "output_type": "display_data"
    }
   ],
   "source": [
    "#3.3: Top Products\n",
    "plt.bar(Data['Product'],Data['Profit Margin'])\n",
    "plt.title(\"Products vs Profit Margin'\")\n",
    "plt.show()"
   ]
  },
  {
   "cell_type": "markdown",
   "id": "3ce36feb",
   "metadata": {},
   "source": [
    "Product C is the highest Profit Margin Rate in Products"
   ]
  },
  {
   "cell_type": "code",
   "execution_count": 41,
   "id": "b365406e",
   "metadata": {},
   "outputs": [
    {
     "name": "stdout",
     "output_type": "stream",
     "text": [
      "     Product  total_revenue  total_Units\n",
      "0  Product A     1779303.22        13985\n",
      "1  Product B     1759298.31        14693\n",
      "2  Product C     1773878.40        14730\n",
      "3  Product D     1743284.99        13240\n"
     ]
    }
   ],
   "source": [
    "Products_group = Data.groupby('Product').agg(\n",
    "    total_revenue =('Revenue', 'sum'),\n",
    "    total_Units =('Units Sold', 'sum')).reset_index()\n",
    "print(Products_group)"
   ]
  },
  {
   "cell_type": "markdown",
   "id": "a17860c0",
   "metadata": {},
   "source": [
    "*Key Insights:*\n",
    "\n",
    "    Highest Revenue: Product A, but most units sold: Product C.\n",
    "    Lowest Performance: Product D in both revenue and units sold.\n",
    "    Relatively Balanced Revenues: All products have similar revenue figures, differing by less than 40,000 between highest and lowest."
   ]
  },
  {
   "cell_type": "code",
   "execution_count": 42,
   "id": "b82cb0fd",
   "metadata": {},
   "outputs": [
    {
     "name": "stdout",
     "output_type": "stream",
     "text": [
      "  Region  Avg_ProfitMargin  Total_Revenue\n",
      "0   East          0.301978     1773878.40\n",
      "1  North          0.301848     1779303.22\n",
      "2  South          0.297912     1759298.31\n",
      "3   West          0.292418     1743284.99\n"
     ]
    }
   ],
   "source": [
    "#3.4:Region Analysis\n",
    "result = Data.groupby('Region').agg(\n",
    "    Avg_ProfitMargin=('Profit Margin', 'mean'),\n",
    "    Total_Revenue=('Revenue', 'sum')\n",
    ").reset_index()\n",
    "print(result)"
   ]
  },
  {
   "cell_type": "code",
   "execution_count": 45,
   "id": "e3e555d6",
   "metadata": {},
   "outputs": [
    {
     "name": "stdout",
     "output_type": "stream",
     "text": [
      "  Region     Revenue\n",
      "0   East  1773878.40\n",
      "1  North  1779303.22\n",
      "2  South  1759298.31\n",
      "3   West  1743284.99\n"
     ]
    }
   ],
   "source": [
    "region_revenue = Data.groupby('Region')['Revenue'].sum().reset_index()\n",
    "print(region_revenue)"
   ]
  },
  {
   "cell_type": "markdown",
   "id": "eaf7e283",
   "metadata": {},
   "source": [
    "*Key Insights:*\n",
    "\n",
    "    Most Profitable Region: East, with the highest profit margin.\n",
    "    Top Revenue Generator: North, despite having the second-highest profit margin.\n",
    "    Consistent Trend: Regions with higher average profit margins tend to have higher total revenues, except for East, which is outperformed by North in total revenue despite a slightly better margin.\n",
    "    Least Performance: West, ranking lowest in both profit margin and total revenue."
   ]
  },
  {
   "cell_type": "code",
   "execution_count": 46,
   "id": "4c5de8f6",
   "metadata": {},
   "outputs": [
    {
     "data": {
      "image/png": "[encoded data removed]",
      "text/plain": [
       "<Figure size 432x288 with 1 Axes>"
      ]
     },
     "metadata": {
      "needs_background": "light"
     },
     "output_type": "display_data"
    }
   ],
   "source": [
    "#3.5: Correlation Analysis\n",
    "plt.bar(region_revenue['Region'],region_revenue['Revenue'])\n",
    "plt.title(\"regional distribution of revenue\")\n",
    "plt.show()"
   ]
  },
  {
   "cell_type": "code",
   "execution_count": 47,
   "id": "799419a9",
   "metadata": {},
   "outputs": [
    {
     "name": "stdout",
     "output_type": "stream",
     "text": [
      "               Units Sold  Unit Price   Revenue  Profit Margin  Total Profit\n",
      "Units Sold       1.000000    0.023237  0.082308       0.060771      0.092672\n",
      "Unit Price       0.023237    1.000000 -0.049350      -0.049169     -0.048416\n",
      "Revenue          0.082308   -0.049350  1.000000      -0.003799      0.826222\n",
      "Profit Margin    0.060771   -0.049169 -0.003799       1.000000      0.541359\n",
      "Total Profit     0.092672   -0.048416  0.826222       0.541359      1.000000\n"
     ]
    },
    {
     "data": {
      "image/png": "[encoded data removed]",
      "text/plain": [
       "<Figure size 576x432 with 2 Axes>"
      ]
     },
     "metadata": {
      "needs_background": "light"
     },
     "output_type": "display_data"
    }
   ],
   "source": [
    "correlation_matrix = Data.corr()\n",
    "print(correlation_matrix)\n",
    "plt.figure(figsize=(8, 6))\n",
    "sns.heatmap(correlation_matrix, annot=True, cmap='coolwarm', fmt='.2f')\n",
    "plt.title('Correlation Matrix')\n",
    "plt.show()"
   ]
  },
  {
   "cell_type": "markdown",
   "id": "cd2fd8dd",
   "metadata": {},
   "source": [
    "*Key Observations:*\n",
    "\n",
    "    Units Sold:\n",
    "        Weak positive correlation with Revenue (0.082) and Total Profit (0.093), suggesting that higher units sold may slightly contribute to increased revenue and profit.\n",
    "        Negligible correlation with Unit Price (0.023) and Profit Margin (0.061).\n",
    "\n",
    "    Unit Price:\n",
    "        Negative correlation with Revenue (-0.049) and Total Profit (-0.048), indicating that higher unit prices might slightly decrease revenue and profit.\n",
    "        Very weak negative correlation with Profit Margin (-0.049) and negligible impact on Units Sold (0.023).\n",
    "\n",
    "    Revenue:\n",
    "        Strong positive correlation with Total Profit (0.826), confirming that revenue significantly drives profit.\n",
    "        Negligible correlation with Profit Margin (-0.004), suggesting revenue changes don’t strongly affect margin.\n",
    "\n",
    "    Profit Margin:\n",
    "        Moderate positive correlation with Total Profit (0.541), showing that improving margins has a meaningful impact on profit.\n",
    "        Very weak positive correlation with Units Sold (0.061) and negligible impact from Revenue (-0.004).\n",
    "\n",
    "    Total Profit:\n",
    "        Strong positive correlation with Revenue (0.826) and Profit Margin (0.541).\n",
    "        Weak correlation with Units Sold (0.093) and Unit Price (-0.048).\n",
    "\n",
    "*Insights:*\n",
    "\n",
    "    Revenue and Total Profit: The strongest relationship, emphasizing the importance of revenue in driving profit.\n",
    "    Profit Margin’s Role: Significant impact on total profit, but less influenced by revenue or unit price.\n",
    "    Unit Price Impact: Minimal influence on other variables, with slight negative correlations to profit and revenue.\n",
    "    Focus Area: To boost profit, prioritize strategies increasing revenue and profit margin rather than simply altering unit prices."
   ]
  }
 ],
 "metadata": {
  "kernelspec": {
   "display_name": "Python 3 (ipykernel)",
   "language": "python",
   "name": "python3"
  },
  "language_info": {
   "codemirror_mode": {
    "name": "ipython",
    "version": 3
   },
   "file_extension": ".py",
   "mimetype": "text/x-python",
   "name": "python",
   "nbconvert_exporter": "python",
   "pygments_lexer": "ipython3",
   "version": "3.9.7"
  }
 },
 "nbformat": 4,
 "nbformat_minor": 5
}
